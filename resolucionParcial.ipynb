{
 "cells": [
  {
   "cell_type": "code",
   "execution_count": 1,
   "metadata": {},
   "outputs": [],
   "source": [
    "import numpy as np\n",
    "import pandas as pd\n",
    "import matplotlib.pyplot as plt\n",
    "import seaborn as sns"
   ]
  },
  {
   "cell_type": "markdown",
   "metadata": {},
   "source": [
    "### Las columnas de los datos:\n",
    "- 0 FECHA: fecha de registro\n",
    "- 1 DESDE: horario de inicio del registro\n",
    "- 2 HASTA: horario de finalización del registro\n",
    "- 3 LINEA: linea de subte\n",
    "- 4 MOLINETE: identificacion del molinete\n",
    "- 5 ESTACION: estación de subte\n",
    "- 6 pax_pagos: cantidad de pasajeros que pagaron\n",
    "- 7 pax_pases_pagos: cantidad de pasajeros que pagaron con pase\n",
    "- 8 pax_franq: cantidad de pasajeros que pagaron con franquicias\n",
    "- 9 pax_TOTAL: cantidad total de pasajeros que usaron el molinete\n",
    "### Consigas que se buscan discutir:\n",
    "1. Calcular la cantidad total de pasajeros que pagaron (pax_pagos) por línea.\n",
    "2. Calcular cuantos pasajeros pagaron con pase el día 14/8\n",
    "3. Obtener la fecha y la línea que tuvo mayor cantidad de pasajeros en un período de 15 minutos (máximo pax_TOTAL)"
   ]
  },
  {
   "cell_type": "code",
   "execution_count": 2,
   "metadata": {},
   "outputs": [],
   "source": [
    "subteTodo = np.loadtxt('subte.csv', delimiter=',', dtype=str)\n",
    "subtePaxPagos = np.loadtxt('subte.csv', delimiter=',', dtype=str, usecols=(6,3))\n",
    "subtePagoFecha = np.loadtxt('subte.csv', delimiter=',', dtype=str, usecols=(0,7))\n",
    "subteCantidad15min = np.loadtxt('subte.csv', delimiter=',', dtype=str, usecols=(1,2,0,3,9))"
   ]
  },
  {
   "cell_type": "code",
   "execution_count": 45,
   "metadata": {},
   "outputs": [
    {
     "name": "stdout",
     "output_type": "stream",
     "text": [
      "La cantidad de filas y columna es (95607, 10)\n",
      "Las simensiones son 2\n"
     ]
    }
   ],
   "source": [
    "print('La cantidad de filas y columna es '+str(subteTodo.shape))\n",
    "print('Las dimensiones son '+str(subteTodo.ndim))"
   ]
  },
  {
   "cell_type": "code",
   "execution_count": 51,
   "metadata": {},
   "outputs": [
    {
     "name": "stdout",
     "output_type": "stream",
     "text": [
      "['FECHA' 'DESDE' 'HASTA' 'LINEA' 'MOLINETE' 'ESTACION' 'pax_pagos'\n",
      " 'pax_pases_pagos' 'pax_franq' 'pax_TOTAL']\n"
     ]
    }
   ],
   "source": [
    "#Las columnas principales son:\n",
    "print(subteTodo[0])"
   ]
  },
  {
   "cell_type": "code",
   "execution_count": 53,
   "metadata": {},
   "outputs": [
    {
     "name": "stdout",
     "output_type": "stream",
     "text": [
      "[['pax_pagos' 'LINEA']\n",
      " ['0' 'LineaD']\n",
      " ['1' 'LineaH']\n",
      " ...\n",
      " ['1' 'LineaE']\n",
      " ['1' 'LineaH']\n",
      " ['2' 'LineaH']]\n"
     ]
    }
   ],
   "source": [
    "print(subtePaxPagos)"
   ]
  },
  {
   "cell_type": "code",
   "execution_count": 55,
   "metadata": {},
   "outputs": [
    {
     "name": "stdout",
     "output_type": "stream",
     "text": [
      "[['FECHA' 'pax_pases_pagos']\n",
      " ['12/2/2023' '0']\n",
      " ['12/2/2023' '0']\n",
      " ...\n",
      " ['18/2/2023' '0']\n",
      " ['18/2/2023' '0']\n",
      " ['18/2/2023' '0']]\n"
     ]
    }
   ],
   "source": [
    "print(subtePagoFecha)"
   ]
  },
  {
   "cell_type": "code",
   "execution_count": 57,
   "metadata": {},
   "outputs": [
    {
     "name": "stdout",
     "output_type": "stream",
     "text": [
      "[['DESDE' 'HASTA' 'FECHA' 'LINEA' 'pax_TOTAL']\n",
      " ['0:00:00' '0:15:00' '12/2/2023' 'LineaD' '1']\n",
      " ['0:00:00' '0:15:00' '12/2/2023' 'LineaH' '1']\n",
      " ...\n",
      " ['23:45:00' '0:00:00' '18/2/2023' 'LineaE' '1']\n",
      " ['23:45:00' '0:00:00' '18/2/2023' 'LineaH' '1']\n",
      " ['23:45:00' '0:00:00' '18/2/2023' 'LineaH' '2']]\n"
     ]
    }
   ],
   "source": [
    "print(subteCantidad15min)"
   ]
  },
  {
   "cell_type": "markdown",
   "metadata": {},
   "source": [
    "### Calcular la cantidad total de pasajeros que pagaron (pax_pagos) por línea\n",
    "Sabiendo que tenemos que lineas principales "
   ]
  },
  {
   "cell_type": "code",
   "execution_count": 3,
   "metadata": {},
   "outputs": [
    {
     "data": {
      "text/plain": [
       "array(['pax_pagos', 'LINEA'], dtype='<U9')"
      ]
     },
     "execution_count": 3,
     "metadata": {},
     "output_type": "execute_result"
    }
   ],
   "source": [
    "subtePaxPagos[0]"
   ]
  },
  {
   "cell_type": "code",
   "execution_count": 20,
   "metadata": {},
   "outputs": [
    {
     "name": "stdout",
     "output_type": "stream",
     "text": [
      "(array(['0', '1', '10', '100', '101', '102', '103', '104', '105', '106',\n",
      "       '107', '108', '109', '11', '110', '111', '112', '113', '114',\n",
      "       '115', '116', '117', '118', '119', '12', '120', '122', '123',\n",
      "       '124', '125', '126', '127', '129', '13', '130', '131', '133',\n",
      "       '134', '136', '137', '138', '14', '143', '144', '145', '15', '151',\n",
      "       '156', '16', '161', '162', '163', '17', '171', '173', '18', '185',\n",
      "       '186', '19', '197', '199', '2', '20', '21', '22', '23', '24', '25',\n",
      "       '26', '27', '28', '29', '3', '30', '31', '32', '33', '34', '35',\n",
      "       '36', '37', '38', '39', '4', '40', '41', '42', '43', '44', '45',\n",
      "       '46', '47', '48', '49', '5', '50', '51', '52', '53', '54', '55',\n",
      "       '56', '57', '58', '59', '6', '60', '61', '62', '63', '64', '65',\n",
      "       '66', '67', '68', '69', '7', '70', '71', '72', '73', '74', '75',\n",
      "       '76', '77', '78', '79', '8', '80', '81', '82', '83', '84', '85',\n",
      "       '86', '87', '88', '89', '9', '90', '91', '92', '93', '94', '95',\n",
      "       '96', '97', '98', '99'], dtype='<U9'), array([4169, 6753, 2742,   17,   17,   14,   13,   15,   11,   11,    8,\n",
      "          6,    8, 2734,    8,    8,   10,    6,    8,    5,    2,    7,\n",
      "          1,    4, 2458,    4,    5,    1,    1,    2,    2,    2,    2,\n",
      "       2405,    2,    2,    3,    1,    1,    3,    1, 2290,    1,    1,\n",
      "          1, 2105,    1,    1, 2055,    3,    1,    1, 1843,    1,    1,\n",
      "       1778,    1,    1, 1850,    1,    2, 5659, 1649, 1599, 1457, 1436,\n",
      "       1237, 1337, 1135, 1148, 1078, 1033, 4672,  976,  985,  922,  841,\n",
      "        815,  730,  690,  740,  622,  613, 4286,  592,  552,  531,  460,\n",
      "        475,  450,  364,  393,  380,  364, 3817,  346,  299,  311,  265,\n",
      "        267,  255,  212,  232,  159,  195, 3537,  182,  194,  164,  149,\n",
      "        141,  151,  100,  111,  110,  110, 3334,  105,   87,   73,   85,\n",
      "         70,   64,   63,   69,   51,   59, 3121,   54,   44,   28,   37,\n",
      "         57,   25,   34,   43,   34,   27, 2898,   17,   26,   20,   28,\n",
      "         26,   12,   20,   23,   18,   16]))\n",
      "(array(['LineaD', 'LineaE', 'LineaH'], dtype='<U9'), array([43678, 29067, 22861]))\n",
      "95607\n"
     ]
    }
   ],
   "source": [
    "p = subtePaxPagos\n",
    "print(np.unique(p[1:,0], return_counts = True))\n",
    "print(np.unique(p[1:,1], return_counts = True))\n",
    "print(p.shape[0])"
   ]
  },
  {
   "cell_type": "code",
   "execution_count": 29,
   "metadata": {},
   "outputs": [
    {
     "name": "stdout",
     "output_type": "stream",
     "text": [
      "[['pax_pagos' 'LINEA']\n",
      " ['0' 'LineaD']\n",
      " ['1' 'LineaH']\n",
      " ...\n",
      " ['1' 'LineaE']\n",
      " ['1' 'LineaH']\n",
      " ['2' 'LineaH']]\n",
      "(95607, 2)\n",
      "95607\n",
      "2\n"
     ]
    }
   ],
   "source": [
    "print(p)\n",
    "print(p.shape)\n",
    "print(p.shape[0])\n",
    "print(p.shape[1])"
   ]
  },
  {
   "cell_type": "code",
   "execution_count": 30,
   "metadata": {},
   "outputs": [
    {
     "name": "stdout",
     "output_type": "stream",
     "text": [
      "[[0. 0.]\n",
      " [0. 0.]\n",
      " [0. 0.]\n",
      " ...\n",
      " [0. 0.]\n",
      " [0. 0.]\n",
      " [0. 0.]]\n",
      "95607\n",
      "2\n"
     ]
    }
   ],
   "source": [
    "pl = np.empty(p.shape)\n",
    "print(pl)\n",
    "print(pl.shape[0])\n",
    "print(pl.shape[1])"
   ]
  },
  {
   "cell_type": "code",
   "execution_count": 29,
   "metadata": {},
   "outputs": [
    {
     "ename": "IndexError",
     "evalue": "index 95607 is out of bounds for axis 0 with size 95607",
     "output_type": "error",
     "traceback": [
      "\u001b[0;31m---------------------------------------------------------------------------\u001b[0m",
      "\u001b[0;31mIndexError\u001b[0m                                Traceback (most recent call last)",
      "\u001b[1;32m/Users/thejoresp/Library/CloudStorage/GoogleDrive-yorluis64@gmail.com/Mi unidad/Programacion/DesarrolloIA/1Parcial_D_IA/resolucionParcial.ipynb Celda 13\u001b[0m line \u001b[0;36m5\n\u001b[1;32m      <a href='vscode-notebook-cell:/Users/thejoresp/Library/CloudStorage/GoogleDrive-yorluis64%40gmail.com/Mi%20unidad/Programacion/DesarrolloIA/1Parcial_D_IA/resolucionParcial.ipynb#X14sZmlsZQ%3D%3D?line=1'>2</a>\u001b[0m LineaE \u001b[39m=\u001b[39m \u001b[39m0\u001b[39m\n\u001b[1;32m      <a href='vscode-notebook-cell:/Users/thejoresp/Library/CloudStorage/GoogleDrive-yorluis64%40gmail.com/Mi%20unidad/Programacion/DesarrolloIA/1Parcial_D_IA/resolucionParcial.ipynb#X14sZmlsZQ%3D%3D?line=3'>4</a>\u001b[0m \u001b[39mfor\u001b[39;00m fila \u001b[39min\u001b[39;00m (\u001b[39m1\u001b[39m, pagosLinea\u001b[39m.\u001b[39mshape[\u001b[39m0\u001b[39m]):\n\u001b[0;32m----> <a href='vscode-notebook-cell:/Users/thejoresp/Library/CloudStorage/GoogleDrive-yorluis64%40gmail.com/Mi%20unidad/Programacion/DesarrolloIA/1Parcial_D_IA/resolucionParcial.ipynb#X14sZmlsZQ%3D%3D?line=4'>5</a>\u001b[0m     \u001b[39mif\u001b[39;00m p[fila, \u001b[39m1\u001b[39m] \u001b[39m==\u001b[39m \u001b[39m'\u001b[39m\u001b[39mLineaH\u001b[39m\u001b[39m'\u001b[39m:\n\u001b[1;32m      <a href='vscode-notebook-cell:/Users/thejoresp/Library/CloudStorage/GoogleDrive-yorluis64%40gmail.com/Mi%20unidad/Programacion/DesarrolloIA/1Parcial_D_IA/resolucionParcial.ipynb#X14sZmlsZQ%3D%3D?line=5'>6</a>\u001b[0m         LineaH \u001b[39m+\u001b[39m\u001b[39m=\u001b[39m \u001b[39m1\u001b[39m\n\u001b[1;32m      <a href='vscode-notebook-cell:/Users/thejoresp/Library/CloudStorage/GoogleDrive-yorluis64%40gmail.com/Mi%20unidad/Programacion/DesarrolloIA/1Parcial_D_IA/resolucionParcial.ipynb#X14sZmlsZQ%3D%3D?line=6'>7</a>\u001b[0m     \u001b[39melse\u001b[39;00m:\n",
      "\u001b[0;31mIndexError\u001b[0m: index 95607 is out of bounds for axis 0 with size 95607"
     ]
    }
   ],
   "source": [
    "for h in (1, pl.shape[0]):\n",
    "    for v in (0, pl.shape[1]):\n",
    "        "
   ]
  },
  {
   "cell_type": "code",
   "execution_count": 11,
   "metadata": {},
   "outputs": [
    {
     "name": "stdout",
     "output_type": "stream",
     "text": [
      "29067\n",
      "22861\n",
      "43679\n",
      "95607\n"
     ]
    }
   ],
   "source": [
    "LineaH = 0\n",
    "LineaE = 0\n",
    "LineaD = 0\n",
    "\n",
    "for linea in p:\n",
    "    if linea[1] == 'LineaH':\n",
    "        LineaH += 1\n",
    "    elif linea[1] == 'LineaE':\n",
    "        LineaE += 1\n",
    "    else:\n",
    "        LineaD +=1\n",
    "print(LineaE)\n",
    "print(LineaH)\n",
    "print(LineaD)\n",
    "print(LineaE+LineaH+LineaD)"
   ]
  },
  {
   "cell_type": "code",
   "execution_count": 27,
   "metadata": {},
   "outputs": [
    {
     "name": "stdout",
     "output_type": "stream",
     "text": [
      "LineaH\n"
     ]
    }
   ],
   "source": [
    "print(p[150][1])"
   ]
  }
 ],
 "metadata": {
  "kernelspec": {
   "display_name": "base",
   "language": "python",
   "name": "python3"
  },
  "language_info": {
   "codemirror_mode": {
    "name": "ipython",
    "version": 3
   },
   "file_extension": ".py",
   "mimetype": "text/x-python",
   "name": "python",
   "nbconvert_exporter": "python",
   "pygments_lexer": "ipython3",
   "version": "3.11.5"
  }
 },
 "nbformat": 4,
 "nbformat_minor": 2
}
