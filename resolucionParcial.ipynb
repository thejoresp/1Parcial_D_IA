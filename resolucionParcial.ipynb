{
 "cells": [
  {
   "cell_type": "code",
   "execution_count": 18,
   "metadata": {},
   "outputs": [],
   "source": [
    "import numpy as np\n",
    "import pandas as pd\n",
    "import matplotlib.pyplot as plt\n",
    "import seaborn as sns"
   ]
  },
  {
   "cell_type": "markdown",
   "metadata": {},
   "source": [
    "### Las columnas de los datos:\n",
    "- 0 FECHA: fecha de registro\n",
    "- 1 DESDE: horario de inicio del registro\n",
    "- 2 HASTA: horario de finalización del registro\n",
    "- 3 LINEA: linea de subte\n",
    "- 4 MOLINETE: identificacion del molinete\n",
    "- 5 ESTACION: estación de subte\n",
    "- 6 pax_pagos: cantidad de pasajeros que pagaron\n",
    "- 7 pax_pases_pagos: cantidad de pasajeros que pagaron con pase\n",
    "- 8 pax_franq: cantidad de pasajeros que pagaron con franquicias\n",
    "- 9 pax_TOTAL: cantidad total de pasajeros que usaron el molinete\n",
    "### Consigas que se buscan discutir:\n",
    "1. Calcular la cantidad total de pasajeros que pagaron (pax_pagos) por línea.\n",
    "2. Calcular cuantos pasajeros pagaron con pase el día 14/8\n",
    "3. Obtener la fecha y la línea que tuvo mayor cantidad de pasajeros en un período de 15 minutos (máximo pax_TOTAL)"
   ]
  },
  {
   "cell_type": "code",
   "execution_count": 22,
   "metadata": {},
   "outputs": [],
   "source": [
    "subteTodo = np.loadtxt('subte.csv', delimiter=',', dtype=str)\n",
    "subtePaxPagos = np.loadtxt('subte.csv', delimiter=',', dtype=str, usecols=(6,3))\n",
    "subtePagoFecha = np.loadtxt('subte.csv', delimiter=',', dtype=str, usecols=(0,7))\n",
    "subteCantidad15min = np.loadtxt('subte.csv', delimiter=',', dtype=str, usecols=(1,2,0,3,9))"
   ]
  },
  {
   "cell_type": "code",
   "execution_count": 21,
   "metadata": {},
   "outputs": [
    {
     "name": "stdout",
     "output_type": "stream",
     "text": [
      "La cantidad de filas y columna es (95607, 10)\n",
      "Las dimensiones son 2\n"
     ]
    }
   ],
   "source": [
    "print('La cantidad de filas y columna es '+str(subteTodo.shape))\n",
    "print('Las dimensiones son '+str(subteTodo.ndim))"
   ]
  },
  {
   "cell_type": "code",
   "execution_count": 23,
   "metadata": {},
   "outputs": [
    {
     "name": "stdout",
     "output_type": "stream",
     "text": [
      "['FECHA' 'DESDE' 'HASTA' 'LINEA' 'MOLINETE' 'ESTACION' 'pax_pagos'\n",
      " 'pax_pases_pagos' 'pax_franq' 'pax_TOTAL']\n"
     ]
    }
   ],
   "source": [
    "#Las columnas principales son:\n",
    "print(subteTodo[0])"
   ]
  },
  {
   "cell_type": "code",
   "execution_count": 53,
   "metadata": {},
   "outputs": [
    {
     "name": "stdout",
     "output_type": "stream",
     "text": [
      "[['pax_pagos' 'LINEA']\n",
      " ['0' 'LineaD']\n",
      " ['1' 'LineaH']\n",
      " ...\n",
      " ['1' 'LineaE']\n",
      " ['1' 'LineaH']\n",
      " ['2' 'LineaH']]\n"
     ]
    }
   ],
   "source": [
    "print(subtePaxPagos)"
   ]
  },
  {
   "cell_type": "code",
   "execution_count": 55,
   "metadata": {},
   "outputs": [
    {
     "name": "stdout",
     "output_type": "stream",
     "text": [
      "[['FECHA' 'pax_pases_pagos']\n",
      " ['12/2/2023' '0']\n",
      " ['12/2/2023' '0']\n",
      " ...\n",
      " ['18/2/2023' '0']\n",
      " ['18/2/2023' '0']\n",
      " ['18/2/2023' '0']]\n"
     ]
    }
   ],
   "source": [
    "print(subtePagoFecha)"
   ]
  },
  {
   "cell_type": "code",
   "execution_count": 57,
   "metadata": {},
   "outputs": [
    {
     "name": "stdout",
     "output_type": "stream",
     "text": [
      "[['DESDE' 'HASTA' 'FECHA' 'LINEA' 'pax_TOTAL']\n",
      " ['0:00:00' '0:15:00' '12/2/2023' 'LineaD' '1']\n",
      " ['0:00:00' '0:15:00' '12/2/2023' 'LineaH' '1']\n",
      " ...\n",
      " ['23:45:00' '0:00:00' '18/2/2023' 'LineaE' '1']\n",
      " ['23:45:00' '0:00:00' '18/2/2023' 'LineaH' '1']\n",
      " ['23:45:00' '0:00:00' '18/2/2023' 'LineaH' '2']]\n"
     ]
    }
   ],
   "source": [
    "print(subteCantidad15min)"
   ]
  },
  {
   "cell_type": "markdown",
   "metadata": {},
   "source": [
    "### Calcular la cantidad total de pasajeros que pagaron (pax_pagos) por línea\n",
    "Sabiendo que tenemos que lineas principales "
   ]
  },
  {
   "cell_type": "code",
   "execution_count": 8,
   "metadata": {},
   "outputs": [
    {
     "data": {
      "text/plain": [
       "array(['pax_pagos', 'LINEA'], dtype='<U9')"
      ]
     },
     "execution_count": 8,
     "metadata": {},
     "output_type": "execute_result"
    }
   ],
   "source": [
    "subtePaxPagos[0]"
   ]
  },
  {
   "cell_type": "code",
   "execution_count": 57,
   "metadata": {},
   "outputs": [
    {
     "name": "stdout",
     "output_type": "stream",
     "text": [
      "(array(['LineaD', 'LineaE', 'LineaH'], dtype='<U9'), array([43678, 29067, 22861]))\n",
      "95607\n"
     ]
    }
   ],
   "source": [
    "p = subtePaxPagos\n",
    "#cantidad de datos por columna\n",
    "#print(np.unique(p[1:,0], return_counts = True))\n",
    "print(np.unique(p[1:,1], return_counts = True))\n",
    "print(p.shape[0])"
   ]
  },
  {
   "cell_type": "code",
   "execution_count": 58,
   "metadata": {},
   "outputs": [
    {
     "name": "stdout",
     "output_type": "stream",
     "text": [
      "[['pax_pagos' 'LINEA']\n",
      " ['0' 'LineaD']\n",
      " ['1' 'LineaH']\n",
      " ...\n",
      " ['1' 'LineaE']\n",
      " ['1' 'LineaH']\n",
      " ['2' 'LineaH']]\n",
      "['pax_pagos' 'LINEA']\n"
     ]
    }
   ],
   "source": [
    "print(p)\n",
    "#print(p.shape)\n",
    "#print(p.shape[0])\n",
    "#print(p.shape[1])\n",
    "print(p[0,])"
   ]
  },
  {
   "cell_type": "code",
   "execution_count": 59,
   "metadata": {
    "notebookRunGroups": {
     "groupValue": ""
    }
   },
   "outputs": [
    {
     "name": "stdout",
     "output_type": "stream",
     "text": [
      "41934\n",
      "27295\n",
      "22208\n",
      "4169\n"
     ]
    }
   ],
   "source": [
    "lineaD = 0\n",
    "lineaE = 0\n",
    "lineaH = 0\n",
    "noPagaron = 0 \n",
    "\n",
    "for x in range(1,p.shape[0]):\n",
    "        if p[x,0] != '0':    \n",
    "                if p[x,1] == 'LineaD':\n",
    "                        lineaD += 1\n",
    "                elif p[x,1] == 'LineaE':\n",
    "                        lineaE += 1\n",
    "                elif p[x,1] == 'LineaH':\n",
    "                        lineaH += 1\n",
    "        else:\n",
    "                noPagaron += 1\n",
    "print(lineaD)\n",
    "print(lineaE)\n",
    "print(lineaH)\n",
    "print(noPagaron)\n"
   ]
  },
  {
   "cell_type": "code",
   "execution_count": null,
   "metadata": {},
   "outputs": [],
   "source": [
    "\n"
   ]
  },
  {
   "cell_type": "code",
   "execution_count": null,
   "metadata": {},
   "outputs": [
    {
     "name": "stdout",
     "output_type": "stream",
     "text": [
      "29067\n",
      "22861\n",
      "43679\n",
      "95607\n"
     ]
    }
   ],
   "source": [
    "LineaH = 0\n",
    "LineaE = 0\n",
    "LineaD = 0\n",
    "\n",
    "for linea in p:\n",
    "    if linea[1] == 'LineaH':\n",
    "        LineaH += 1\n",
    "    elif linea[1] == 'LineaE':\n",
    "        LineaE += 1\n",
    "    else:\n",
    "        LineaD +=1\n",
    "print(LineaE)\n",
    "print(LineaH)\n",
    "print(LineaD)\n",
    "print(LineaE+LineaH+LineaD)"
   ]
  },
  {
   "cell_type": "code",
   "execution_count": null,
   "metadata": {},
   "outputs": [
    {
     "name": "stdout",
     "output_type": "stream",
     "text": [
      "1\n"
     ]
    }
   ],
   "source": [
    "print(p[5][0])"
   ]
  }
 ],
 "metadata": {
  "kernelspec": {
   "display_name": "base",
   "language": "python",
   "name": "python3"
  },
  "language_info": {
   "codemirror_mode": {
    "name": "ipython",
    "version": 3
   },
   "file_extension": ".py",
   "mimetype": "text/x-python",
   "name": "python",
   "nbconvert_exporter": "python",
   "pygments_lexer": "ipython3",
   "version": "3.11.5"
  }
 },
 "nbformat": 4,
 "nbformat_minor": 2
}
