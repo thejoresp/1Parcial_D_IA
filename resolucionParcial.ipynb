{
 "cells": [
  {
   "cell_type": "code",
   "execution_count": 28,
   "metadata": {},
   "outputs": [],
   "source": [
    "import numpy as np\n",
    "import pandas as pd\n",
    "import matplotlib.pyplot as plt\n",
    "import seaborn as sns"
   ]
  },
  {
   "cell_type": "markdown",
   "metadata": {},
   "source": [
    "### Las columnas de los datos:\n",
    "- 0 FECHA: fecha de registro\n",
    "- 1 DESDE: horario de inicio del registro\n",
    "- 2 HASTA: horario de finalización del registro\n",
    "- 3 LINEA: linea de subte\n",
    "- 4 MOLINETE: identificacion del molinete\n",
    "- 5 ESTACION: estación de subte\n",
    "- 6 pax_pagos: cantidad de pasajeros que pagaron\n",
    "- 7 pax_pases_pagos: cantidad de pasajeros que pagaron con pase\n",
    "- 8 pax_franq: cantidad de pasajeros que pagaron con franquicias\n",
    "- 9 pax_TOTAL: cantidad total de pasajeros que usaron el molinete\n",
    "### Consigas que se buscan discutir:\n",
    "1. Calcular la cantidad total de pasajeros que pagaron (pax_pagos) por línea.\n",
    "2. Calcular cuantos pasajeros pagaron con pase el día 14/8\n",
    "3. Obtener la fecha y la línea que tuvo mayor cantidad de pasajeros en un período de 15 minutos (máximo pax_TOTAL)"
   ]
  },
  {
   "cell_type": "code",
   "execution_count": 56,
   "metadata": {},
   "outputs": [],
   "source": [
    "subteTodo = np.loadtxt('subte.csv', delimiter=',', dtype=str)\n",
    "subtePaxPagos = np.loadtxt('subte.csv', delimiter=',', dtype=str, usecols=(6,3))\n",
    "subtePagoFecha = np.loadtxt('subte.csv', delimiter=',', dtype=str, usecols=(0,7))\n",
    "subteCantidad15min = np.loadtxt('subte.csv', delimiter=',', dtype=str, usecols=(1,2,0,3,9))"
   ]
  },
  {
   "cell_type": "code",
   "execution_count": 45,
   "metadata": {},
   "outputs": [
    {
     "name": "stdout",
     "output_type": "stream",
     "text": [
      "La cantidad de filas y columna es (95607, 10)\n",
      "Las simensiones son 2\n"
     ]
    }
   ],
   "source": [
    "print('La cantidad de filas y columna es '+str(subteTodo.shape))\n",
    "print('Las dimensiones son '+str(subteTodo.ndim))"
   ]
  },
  {
   "cell_type": "code",
   "execution_count": 51,
   "metadata": {},
   "outputs": [
    {
     "name": "stdout",
     "output_type": "stream",
     "text": [
      "['FECHA' 'DESDE' 'HASTA' 'LINEA' 'MOLINETE' 'ESTACION' 'pax_pagos'\n",
      " 'pax_pases_pagos' 'pax_franq' 'pax_TOTAL']\n"
     ]
    }
   ],
   "source": [
    "#Las columnas principales son:\n",
    "print(subteTodo[0])"
   ]
  },
  {
   "cell_type": "code",
   "execution_count": 53,
   "metadata": {},
   "outputs": [
    {
     "name": "stdout",
     "output_type": "stream",
     "text": [
      "[['pax_pagos' 'LINEA']\n",
      " ['0' 'LineaD']\n",
      " ['1' 'LineaH']\n",
      " ...\n",
      " ['1' 'LineaE']\n",
      " ['1' 'LineaH']\n",
      " ['2' 'LineaH']]\n"
     ]
    }
   ],
   "source": [
    "print(subtePaxPagos)"
   ]
  },
  {
   "cell_type": "code",
   "execution_count": 55,
   "metadata": {},
   "outputs": [
    {
     "name": "stdout",
     "output_type": "stream",
     "text": [
      "[['FECHA' 'pax_pases_pagos']\n",
      " ['12/2/2023' '0']\n",
      " ['12/2/2023' '0']\n",
      " ...\n",
      " ['18/2/2023' '0']\n",
      " ['18/2/2023' '0']\n",
      " ['18/2/2023' '0']]\n"
     ]
    }
   ],
   "source": [
    "print(subtePagoFecha)"
   ]
  },
  {
   "cell_type": "code",
   "execution_count": 57,
   "metadata": {},
   "outputs": [
    {
     "name": "stdout",
     "output_type": "stream",
     "text": [
      "[['DESDE' 'HASTA' 'FECHA' 'LINEA' 'pax_TOTAL']\n",
      " ['0:00:00' '0:15:00' '12/2/2023' 'LineaD' '1']\n",
      " ['0:00:00' '0:15:00' '12/2/2023' 'LineaH' '1']\n",
      " ...\n",
      " ['23:45:00' '0:00:00' '18/2/2023' 'LineaE' '1']\n",
      " ['23:45:00' '0:00:00' '18/2/2023' 'LineaH' '1']\n",
      " ['23:45:00' '0:00:00' '18/2/2023' 'LineaH' '2']]\n"
     ]
    }
   ],
   "source": [
    "print(subteCantidad15min)"
   ]
  },
  {
   "cell_type": "markdown",
   "metadata": {},
   "source": [
    "### Calcular la cantidad total de pasajeros que pagaron (pax_pagos) por línea. El programa debe mostrar una leyenda similar a la siguiente:"
   ]
  },
  {
   "cell_type": "code",
   "execution_count": 58,
   "metadata": {},
   "outputs": [
    {
     "data": {
      "text/plain": [
       "array([['pax_pagos', 'LINEA'],\n",
       "       ['0', 'LineaD'],\n",
       "       ['1', 'LineaH'],\n",
       "       ...,\n",
       "       ['1', 'LineaE'],\n",
       "       ['1', 'LineaH'],\n",
       "       ['2', 'LineaH']], dtype='<U9')"
      ]
     },
     "execution_count": 58,
     "metadata": {},
     "output_type": "execute_result"
    }
   ],
   "source": [
    "subtePaxPagos"
   ]
  }
 ],
 "metadata": {
  "kernelspec": {
   "display_name": "base",
   "language": "python",
   "name": "python3"
  },
  "language_info": {
   "codemirror_mode": {
    "name": "ipython",
    "version": 3
   },
   "file_extension": ".py",
   "mimetype": "text/x-python",
   "name": "python",
   "nbconvert_exporter": "python",
   "pygments_lexer": "ipython3",
   "version": "3.11.5"
  }
 },
 "nbformat": 4,
 "nbformat_minor": 2
}
